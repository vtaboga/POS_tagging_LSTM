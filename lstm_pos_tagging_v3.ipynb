{
 "cells": [
  {
   "cell_type": "code",
   "execution_count": 1,
   "metadata": {},
   "outputs": [],
   "source": [
    "import nltk\n",
    "import torch\n",
    "import torch.autograd as autograd\n",
    "import torch.nn as nn\n",
    "import torch.nn.functional as F\n",
    "import torch.optim as optim\n",
    "import matplotlib.pyplot as plt\n",
    "import numpy as np\n",
    "import random\n",
    "import sklearn\n",
    "from time import time"
   ]
  },
  {
   "cell_type": "code",
   "execution_count": 2,
   "metadata": {},
   "outputs": [
    {
     "data": {
      "text/plain": [
       "<torch._C.Generator at 0x7f549775d630>"
      ]
     },
     "execution_count": 2,
     "metadata": {},
     "output_type": "execute_result"
    }
   ],
   "source": [
    "#We first fix the seed to be sure that the test set is always the same\n",
    "np.random.seed(1)\n",
    "torch.manual_seed(1)"
   ]
  },
  {
   "cell_type": "markdown",
   "metadata": {},
   "source": [
    "# Part 1 : shaping data"
   ]
  },
  {
   "cell_type": "markdown",
   "metadata": {},
   "source": [
    "Useful functions"
   ]
  },
  {
   "cell_type": "code",
   "execution_count": 3,
   "metadata": {},
   "outputs": [],
   "source": [
    "def reshape_data(corpus):\n",
    "    #data must be in a list as follow : [(sentence,tags),(sentence, tags)...]\n",
    "    data_set=[]\n",
    "    for sentence in corpus :\n",
    "        words = [w[0] for w in sentence]\n",
    "        tags = [w[1] for w in sentence]\n",
    "        data_set.append((words,tags))\n",
    "    return(data_set)\n",
    "\n",
    "def split_data(corpus,train_length,val_length,test_length) :\n",
    "    if train_length+val_length+test_length <= len(corpus) :\n",
    "        training_set = corpus[:train_length]\n",
    "        validaiton_set = corpus[train_length:train_length+val_length]\n",
    "        test_set = corpus[train_length+val_length:train_length+val_length+test_length]\n",
    "        return(training_set,validaiton_set,test_set)\n",
    "    else:\n",
    "        return('not enough sentences in the dataset')\n",
    "\n",
    "def prepare_sequence(seq, to_ix):\n",
    "    #turn the words of a sentence into its word dictionary index\n",
    "    idxs = [to_ix[w] for w in seq]\n",
    "    tensor = torch.LongTensor(idxs)\n",
    "    return autograd.Variable(tensor)\n",
    "\n",
    "def long_sentences(corpus,n_sent,n_words) :\n",
    "    \"\"\"return n_sent sentences with more than n_words\"\"\"\n",
    "    long_sent = []\n",
    "    for sentence in corpus :\n",
    "        if len(sentence[0])>n_words :\n",
    "            long_sent.append(sentence)\n",
    "    if len(long_sent)>=n_sent :\n",
    "        return(long_sent[:n_sent])\n",
    "    else :\n",
    "        print(\"not enough long sentences\")\n",
    "        return(long_sent)\n",
    "    \n",
    "def short_sentences(corpus,n_sent,n_words) :\n",
    "    \"\"\"return n_sent sentences with less than n_words\"\"\"\n",
    "    short_sent = []\n",
    "    for sentence in corpus :\n",
    "        if len(sentence[0])<n_words :\n",
    "            short_sent.append(sentence)\n",
    "    if len(short_sent)>=n_sent :\n",
    "        return(short_sent[:n_sent])\n",
    "    else :\n",
    "        print(\"not enough short sentences\")\n",
    "        return(short_sent)\n",
    "\n",
    "def generate_tag_dic(tagged_sent):\n",
    "    tags=[]\n",
    "    [tags.extend([item[1] for item in tagged_sent[i]]) for i in range(len(tagged_sent))]\n",
    "    tags_unique = set(tags)\n",
    "    tag_to_ix = dict(zip(tags_unique, range(len(tags_unique))))\n",
    "    return tag_to_ix\n",
    "\n",
    "def generate_word_dic(tagged_sent):\n",
    "    words=[]\n",
    "    [words.extend([item[0] for item in tagged_sent[i]]) for i in range(len(tagged_sent))]\n",
    "    words_unique = set(words)\n",
    "    word_to_ix = dict(zip(words_unique, range(len(words_unique))))\n",
    "    return word_to_ix"
   ]
  },
  {
   "cell_type": "markdown",
   "metadata": {},
   "source": [
    "Creating the sets"
   ]
  },
  {
   "cell_type": "code",
   "execution_count": 4,
   "metadata": {},
   "outputs": [],
   "source": [
    "#nltk.download('brown')\n",
    "#importing the brown corpus from nltk\n",
    "tagged_sent = nltk.corpus.brown.tagged_sents()"
   ]
  },
  {
   "cell_type": "code",
   "execution_count": 5,
   "metadata": {},
   "outputs": [],
   "source": [
    "data_set = reshape_data(tagged_sent)\n",
    "#shuffle the data_set to be sure sentences are of random lengths\n",
    "np.random.shuffle(data_set)\n",
    "\n",
    "#make the training, validation and test set\n",
    "train_l = 5000\n",
    "val_l = 2000\n",
    "test_l = 1000\n",
    "total = train_l+val_l+test_l\n",
    "\n",
    "training_set,validation_set,test_set = split_data(data_set,train_l,val_l,test_l)\n",
    "\n",
    "#add a test set with short sentences (less than 5 words)\n",
    "short_test_set = short_sentences(data_set[total:],test_l,5)\n",
    "#add a test set with long sentences (more than 40 words)\n",
    "long_test_set = long_sentences(data_set[total:],test_l,40)"
   ]
  },
  {
   "cell_type": "markdown",
   "metadata": {},
   "source": [
    "Creating dictionaries"
   ]
  },
  {
   "cell_type": "code",
   "execution_count": 6,
   "metadata": {},
   "outputs": [],
   "source": [
    "word_to_ix = generate_word_dic(tagged_sent)\n",
    "tag_dic = generate_tag_dic(tagged_sent)"
   ]
  },
  {
   "cell_type": "markdown",
   "metadata": {},
   "source": [
    "# Part 2 : LSTM architectures"
   ]
  },
  {
   "cell_type": "code",
   "execution_count": 7,
   "metadata": {},
   "outputs": [],
   "source": [
    "# from http://pytorch.org/tutorials/beginner/nlp/sequence_models_tutorial.html\n",
    "\n",
    "#network dimensions\n",
    "EMBEDDING_DIM = 300\n",
    "HIDDEN_DIM = 200"
   ]
  },
  {
   "cell_type": "code",
   "execution_count": 8,
   "metadata": {},
   "outputs": [],
   "source": [
    "class LSTMTagger(nn.Module):\n",
    "    \n",
    "    def __init__(self, embedding_dim, hidden_dim, vocab_size, target_size):\n",
    "        super(LSTMTagger, self).__init__()\n",
    "        self.hidden_dim = hidden_dim\n",
    "        \n",
    "        self.word_embedding = nn.Embedding(vocab_size, embedding_dim)\n",
    "        \n",
    "        self.lstm = nn.LSTM(embedding_dim, hidden_dim)\n",
    "        \n",
    "        self.hidden2tag = nn.Linear(hidden_dim, target_size)\n",
    "        self.hidden = self.init_hidden()\n",
    "        \n",
    "    def init_hidden(self):\n",
    "        return(autograd.Variable(torch.zeros(1, 1, self.hidden_dim)),\n",
    "              autograd.Variable(torch.zeros(1, 1, self.hidden_dim)))\n",
    "    \n",
    "    def forward(self, sentence):\n",
    "        embeds = self.word_embedding(sentence)\n",
    "        lstm_out, self.hidden = self.lstm(embeds.view(len(sentence), 1, -1), self.hidden)\n",
    "        tag_space = self.hidden2tag(lstm_out.view(len(sentence), -1))\n",
    "        tag_scores = F.log_softmax(tag_space, dim=1)\n",
    "        return(tag_scores)"
   ]
  },
  {
   "cell_type": "code",
   "execution_count": 9,
   "metadata": {},
   "outputs": [],
   "source": [
    "class LSTMTagger_bidir(nn.Module):\n",
    "    \n",
    "    def __init__(self, embedding_dim, hidden_dim, vocab_size, target_size):\n",
    "        super(LSTMTagger_bidir, self).__init__()\n",
    "        self.hidden_dim = hidden_dim\n",
    "        \n",
    "        self.word_embedding = nn.Embedding(vocab_size, embedding_dim)\n",
    "        \n",
    "        self.lstm = nn.LSTM(embedding_dim, hidden_dim, bidirectional = True)\n",
    "        \n",
    "        self.hidden2tag = nn.Linear(2*hidden_dim, target_size)\n",
    "        self.hidden = self.init_hidden()\n",
    "        \n",
    "    def init_hidden(self):\n",
    "        return(autograd.Variable(torch.zeros(2, 1, self.hidden_dim)),\n",
    "              autograd.Variable(torch.zeros(2, 1, self.hidden_dim)))\n",
    "    \n",
    "    def forward(self, sentence):\n",
    "        embeds = self.word_embedding(sentence)\n",
    "        lstm_out, self.hidden = self.lstm(embeds.view(len(sentence), 1, -1), self.hidden)\n",
    "        tag_space = self.hidden2tag(lstm_out.view(len(sentence), -1))\n",
    "        tag_scores = F.log_softmax(tag_space, dim=1)\n",
    "        return(tag_scores)"
   ]
  },
  {
   "cell_type": "code",
   "execution_count": 10,
   "metadata": {},
   "outputs": [],
   "source": [
    "class LSTMTagger_2layers(nn.Module):\n",
    "    \n",
    "    def __init__(self, embedding_dim, hidden_dim, vocab_size, target_size):\n",
    "        super(LSTMTagger_2layers, self).__init__()\n",
    "        self.hidden_dim = hidden_dim\n",
    "        \n",
    "        self.word_embedding = nn.Embedding(vocab_size, embedding_dim)\n",
    "        \n",
    "        self.lstm = nn.LSTM(embedding_dim, hidden_dim, num_layers = 2)\n",
    "        \n",
    "        self.hidden2tag = nn.Linear(hidden_dim, target_size)\n",
    "        self.hidden = self.init_hidden()\n",
    "        \n",
    "    def init_hidden(self):\n",
    "        return(autograd.Variable(torch.zeros(2, 1, self.hidden_dim)),\n",
    "              autograd.Variable(torch.zeros(2, 1, self.hidden_dim)))\n",
    "    \n",
    "    def forward(self, sentence):\n",
    "        embeds = self.word_embedding(sentence)\n",
    "        lstm_out, self.hidden = self.lstm(embeds.view(len(sentence), 1, -1), self.hidden)\n",
    "        tag_space = self.hidden2tag(lstm_out.view(len(sentence), -1))\n",
    "        tag_scores = F.log_softmax(tag_space, dim=1)\n",
    "        return(tag_scores)"
   ]
  },
  {
   "cell_type": "code",
   "execution_count": 11,
   "metadata": {},
   "outputs": [],
   "source": [
    "class LSTMTagger_bidir_2layers(nn.Module):\n",
    "    \n",
    "    def __init__(self, embedding_dim, hidden_dim, vocab_size, target_size):\n",
    "        super(LSTMTagger_bidir_2layers, self).__init__()\n",
    "        self.hidden_dim = hidden_dim\n",
    "        \n",
    "        self.word_embedding = nn.Embedding(vocab_size, embedding_dim)\n",
    "        \n",
    "        self.lstm = nn.LSTM(embedding_dim, hidden_dim, num_layers = 2, bidirectional = True)\n",
    "        \n",
    "        self.hidden2tag = nn.Linear(2*hidden_dim, target_size)\n",
    "        self.hidden = self.init_hidden()\n",
    "        \n",
    "    def init_hidden(self):\n",
    "        return(autograd.Variable(torch.zeros(4, 1, self.hidden_dim)),\n",
    "              autograd.Variable(torch.zeros(4, 1, self.hidden_dim)))\n",
    "    \n",
    "    def forward(self, sentence):\n",
    "        embeds = self.word_embedding(sentence)\n",
    "        lstm_out, self.hidden = self.lstm(embeds.view(len(sentence), 1, -1), self.hidden)\n",
    "        tag_space = self.hidden2tag(lstm_out.view(len(sentence), -1))\n",
    "        tag_scores = F.log_softmax(tag_space, dim=1)\n",
    "        return(tag_scores)"
   ]
  },
  {
   "cell_type": "markdown",
   "metadata": {},
   "source": [
    "# Part 3 : training the networks and making predictions"
   ]
  },
  {
   "cell_type": "code",
   "execution_count": 12,
   "metadata": {},
   "outputs": [],
   "source": [
    "def training_net(training_set,model) :\n",
    "    \n",
    "    loss_function = nn.NLLLoss()\n",
    "    optimizer = optim.SGD(model.parameters(), lr=0.1)\n",
    "    \n",
    "    #shuffle the data at before each training loop\n",
    "    np.random.shuffle(training_set)\n",
    "    \n",
    "    for sentence, tags in training_set:\n",
    "        #clear the gradient before each instance\n",
    "        model.zero_grad()\n",
    "        #clear out the hidden state of the lstm\n",
    "        #detaching it from its history on the last instance\n",
    "        model.hidden = model.init_hidden()\n",
    "        \n",
    "        #get the inputs ready for the network : turn them into variable of word indices\n",
    "        sentence_in = prepare_sequence(sentence, word_to_ix)\n",
    "        targets = prepare_sequence(tags, tag_dic)\n",
    "        \n",
    "        #forward pass\n",
    "        tag_scores = model(sentence_in)\n",
    "\n",
    "        #compute loss, gradient, and update the parameters \n",
    "        loss = loss_function(tag_scores, targets)\n",
    "        loss.backward()\n",
    "        optimizer.step()"
   ]
  },
  {
   "cell_type": "code",
   "execution_count": 13,
   "metadata": {},
   "outputs": [],
   "source": [
    "def running_net(data_set,model) :\n",
    "    np.random.shuffle(data_set)\n",
    "    f1score = []\n",
    "    \n",
    "    for sentence, tags in data_set :\n",
    "        model.zero_grad()\n",
    "        model.hidden = model.init_hidden()\n",
    "        sentence_in = prepare_sequence(sentence, word_to_ix)\n",
    "        targets = prepare_sequence(tags, tag_dic)\n",
    "        \n",
    "        #making predictions\n",
    "        _,tags_predictions = torch.max(model(sentence_in), dim=1)\n",
    "\n",
    "        #store predictions\n",
    "        #for each word, one if it's the good tag, 0 otherwise\n",
    "        sentence_prediction = [1 if int(tags_predictions[i])==int(targets[i]) else 0 for i in range(len(targets))]\n",
    "            \n",
    "        #computing f1\n",
    "        array_target = targets.data.numpy()\n",
    "        array_pred = tags_predictions.data.numpy()\n",
    "        f1score.append(sklearn.metrics.f1_score(array_target,array_pred,average='micro'))\n",
    "                                                     \n",
    "    return(np.average(f1score))"
   ]
  },
  {
   "cell_type": "code",
   "execution_count": 14,
   "metadata": {},
   "outputs": [],
   "source": [
    "def main (n_epochs,model):\n",
    "    \n",
    "    #training network\n",
    "    loss = 0 #initialize the loss for the training_net function\n",
    "    validation_f1score = [] #list of all the f1 score computed on the validation set\n",
    "    \n",
    "    for epoch in range(n_epochs):\n",
    "        print(\"epoch n°\" + str(epoch))\n",
    "        training_net(training_set,model)\n",
    "        epoch_score = running_net(validation_set,model)\n",
    "        validation_f1score.append(epoch_score)\n",
    "    \n",
    "    #test network\n",
    "    print('computing tests')\n",
    "    test_score = running_net(test_set,model)\n",
    "    test_score_short = running_net(short_test_set,model)\n",
    "    test_score_long = running_net(long_test_set,model)\n",
    "\n",
    "    return(validation_f1score,test_score,test_score_short,test_score_long)"
   ]
  },
  {
   "cell_type": "markdown",
   "metadata": {},
   "source": [
    "simple lstm"
   ]
  },
  {
   "cell_type": "code",
   "execution_count": 15,
   "metadata": {},
   "outputs": [
    {
     "name": "stdout",
     "output_type": "stream",
     "text": [
      "epoch n°0\n",
      "epoch n°1\n",
      "epoch n°2\n",
      "epoch n°3\n",
      "epoch n°4\n",
      "epoch n°5\n",
      "epoch n°6\n",
      "epoch n°7\n",
      "epoch n°8\n",
      "epoch n°9\n",
      "computing tests\n",
      "training time\n",
      "3179.4441392421722s\n",
      "f1 score computed on the test set, with long sentences\n",
      "0.8411731485520356\n",
      "f1 score computed on the test set, with short sentences\n",
      "0.5343333333333332\n",
      "f1 score computed on the test set\n",
      "0.8203218083854477\n"
     ]
    },
    {
     "data": {
      "image/png": "[encoded data removed]",
      "text/plain": [
       "<matplotlib.figure.Figure at 0x7f54de4615f8>"
      ]
     },
     "metadata": {},
     "output_type": "display_data"
    }
   ],
   "source": [
    "model_lstm = LSTMTagger(EMBEDDING_DIM, HIDDEN_DIM, len(word_to_ix), len(tag_dic))\n",
    "\n",
    "t1 = time()\n",
    "validation_lstm,test_score_lstm,test_score_short_lstm,test_score_long_lstm = main(10,model_lstm)\n",
    "t2 = time()\n",
    "\n",
    "print('training time')\n",
    "print(str(t2-t1)+\"s\")\n",
    "\n",
    "plt.plot(validation_lstm)\n",
    "plt.xlabel('epoch')\n",
    "plt.ylabel('f1 score')\n",
    "plt.ylim(0.70,0.95)\n",
    "plt.title('f1 score of the validaiton set over the epochs, two layers bidirectional LSTM ')\n",
    "#plt.savefig(\"f1_score_2bilayerslstm.pdf\")\n",
    "\n",
    "print('f1 score computed on the test set, with long sentences')\n",
    "print(test_score_long_lstm)\n",
    "\n",
    "print('f1 score computed on the test set, with short sentences')\n",
    "print(test_score_short_lstm)\n",
    "\n",
    "print('f1 score computed on the test set')\n",
    "print(test_score_lstm)"
   ]
  },
  {
   "cell_type": "markdown",
   "metadata": {},
   "source": [
    "bidirectional lstm"
   ]
  },
  {
   "cell_type": "code",
   "execution_count": 16,
   "metadata": {},
   "outputs": [
    {
     "name": "stdout",
     "output_type": "stream",
     "text": [
      "epoch n°0\n",
      "epoch n°1\n",
      "epoch n°2\n",
      "epoch n°3\n",
      "epoch n°4\n",
      "epoch n°5\n",
      "epoch n°6\n",
      "epoch n°7\n",
      "epoch n°8\n",
      "epoch n°9\n",
      "computing tests\n",
      "training time\n",
      "4398.096567392349s\n",
      "f1 score computed on the test set, with long sentences\n",
      "0.8668655247381268\n",
      "f1 score computed on the test set, with short sentences\n",
      "0.60475\n",
      "f1 score computed on the test set\n",
      "0.8512876949999867\n"
     ]
    },
    {
     "data": {
      "image/png": "[encoded data removed]",
      "text/plain": [
       "<matplotlib.figure.Figure at 0x7f54884b8e10>"
      ]
     },
     "metadata": {},
     "output_type": "display_data"
    }
   ],
   "source": [
    "model_bidir = LSTMTagger_bidir(EMBEDDING_DIM, HIDDEN_DIM, len(word_to_ix), len(tag_dic))\n",
    "\n",
    "t1 = time()\n",
    "validation_bidir,test_score_bidir,test_score_short_bidir,test_score_long_bidir = main(10,model_bidir)\n",
    "t2 = time()\n",
    "\n",
    "print('training time')\n",
    "print(str(t2-t1)+\"s\")\n",
    "\n",
    "plt.plot(validation_bidir)\n",
    "plt.xlabel('epoch')\n",
    "plt.ylabel('f1 score')\n",
    "plt.ylim(0.70,0.95)\n",
    "plt.title('f1 score of the validaiton set over the epochs, simple LSTM ')\n",
    "#plt.savefig(\"f1_score_lstm.pdf\")\n",
    "\n",
    "print('f1 score computed on the test set, with long sentences')\n",
    "print(test_score_long_bidir)\n",
    "\n",
    "print('f1 score computed on the test set, with short sentences')\n",
    "print(test_score_short_bidir)\n",
    "\n",
    "print('f1 score computed on the test set')\n",
    "print(test_score_bidir)"
   ]
  },
  {
   "cell_type": "markdown",
   "metadata": {},
   "source": [
    "two layers lstm"
   ]
  },
  {
   "cell_type": "code",
   "execution_count": 17,
   "metadata": {},
   "outputs": [
    {
     "name": "stdout",
     "output_type": "stream",
     "text": [
      "epoch n°0\n",
      "epoch n°1\n",
      "epoch n°2\n",
      "epoch n°3\n",
      "epoch n°4\n",
      "epoch n°5\n",
      "epoch n°6\n",
      "epoch n°7\n",
      "epoch n°8\n",
      "epoch n°9\n",
      "computing tests\n",
      "training time\n",
      "4552.989136695862s\n",
      "f1 score computed on the test set, with long sentences\n",
      "0.8669960918019767\n",
      "f1 score computed on the test set, with short sentences\n",
      "0.5995\n",
      "f1 score computed on the test set\n",
      "0.8502170152054678\n"
     ]
    },
    {
     "data": {
      "image/png": "[encoded data removed]",
      "text/plain": [
       "<matplotlib.figure.Figure at 0x7f54884caa90>"
      ]
     },
     "metadata": {},
     "output_type": "display_data"
    }
   ],
   "source": [
    "model_2lay = LSTMTagger_bidir(EMBEDDING_DIM, HIDDEN_DIM, len(word_to_ix), len(tag_dic))\n",
    "\n",
    "t1 = time()\n",
    "validation_2lay,test_score_2lay,test_score_short_2lay,test_score_long_2lay = main(10,model_2lay)\n",
    "t2 = time()\n",
    "\n",
    "print('training time')\n",
    "print(str(t2-t1)+\"s\")\n",
    "\n",
    "plt.plot(validation_2lay)\n",
    "plt.xlabel('epoch')\n",
    "plt.ylabel('f1 score')\n",
    "plt.ylim(0.70,0.95)\n",
    "plt.title('f1 score of the validaiton set over the epochs, two layers LSTM ')\n",
    "#plt.savefig(\"f1_score_2lay.pdf\")\n",
    "\n",
    "print('f1 score computed on the test set, with long sentences')\n",
    "print(test_score_long_2lay)\n",
    "\n",
    "print('f1 score computed on the test set, with short sentences')\n",
    "print(test_score_short_2lay)\n",
    "\n",
    "print('f1 score computed on the test set')\n",
    "print(test_score_2lay)"
   ]
  },
  {
   "cell_type": "markdown",
   "metadata": {},
   "source": [
    "two layers bidirectional"
   ]
  },
  {
   "cell_type": "code",
   "execution_count": 18,
   "metadata": {},
   "outputs": [
    {
     "name": "stdout",
     "output_type": "stream",
     "text": [
      "epoch n°0\n",
      "epoch n°1\n",
      "epoch n°2\n",
      "epoch n°3\n",
      "epoch n°4\n",
      "epoch n°5\n",
      "epoch n°6\n",
      "epoch n°7\n",
      "epoch n°8\n",
      "epoch n°9\n",
      "computing tests\n",
      "training time\n",
      "7106.172688961029s\n",
      "f1 score computed on the test set, with long sentences\n",
      "0.8749527306940335\n",
      "f1 score computed on the test set, with short sentences\n",
      "0.6385833333333333\n",
      "f1 score computed on the test set\n",
      "0.8588055283914234\n"
     ]
    },
    {
     "data": {
      "image/png": "[encoded data removed]",
      "text/plain": [
       "<matplotlib.figure.Figure at 0x7f54884d99e8>"
      ]
     },
     "metadata": {},
     "output_type": "display_data"
    }
   ],
   "source": [
    "np.random.seed(seed = None)\n",
    "\n",
    "model_bidir_2layers = LSTMTagger_bidir_2layers(EMBEDDING_DIM, HIDDEN_DIM, len(word_to_ix), len(tag_dic))\n",
    "\n",
    "t1 = time()\n",
    "validation_bidir_2layers,test_score_bidir_2layers,test_score_short_bidir_2layers,test_score_long_bidir_2layers = main(10,model_bidir_2layers)\n",
    "t2 = time()\n",
    "\n",
    "print('training time')\n",
    "print(str(t2-t1)+\"s\")\n",
    "\n",
    "plt.plot(validation_bidir_2layers)\n",
    "plt.xlabel('epoch')\n",
    "plt.ylabel('f1 score')\n",
    "plt.ylim(0.70,0.95)\n",
    "plt.title('f1 score of the validaiton set over the epochs, two layers bidirectional LSTM ')\n",
    "#plt.savefig(\"f1_score_2bilayerslstm.pdf\")\n",
    "\n",
    "print('f1 score computed on the test set, with long sentences')\n",
    "print(test_score_long_bidir_2layers)\n",
    "\n",
    "print('f1 score computed on the test set, with short sentences')\n",
    "print(test_score_short_bidir_2layers)\n",
    "\n",
    "print('f1 score computed on the test set')\n",
    "print(test_score_bidir_2layers)"
   ]
  },
  {
   "cell_type": "code",
   "execution_count": null,
   "metadata": {},
   "outputs": [],
   "source": []
  }
 ],
 "metadata": {
  "kernelspec": {
   "display_name": "Python 3",
   "language": "python",
   "name": "python3"
  },
  "language_info": {
   "codemirror_mode": {
    "name": "ipython",
    "version": 3
   },
   "file_extension": ".py",
   "mimetype": "text/x-python",
   "name": "python",
   "nbconvert_exporter": "python",
   "pygments_lexer": "ipython3",
   "version": "3.5.2"
  }
 },
 "nbformat": 4,
 "nbformat_minor": 2
}
